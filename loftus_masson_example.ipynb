{
 "cells": [
  {
   "cell_type": "code",
   "execution_count": 116,
   "id": "0c7fff57-a84b-4c2f-8e09-f79004af7712",
   "metadata": {},
   "outputs": [],
   "source": [
    "import numpy as np\n",
    "import scipy as sp\n",
    "from scipy import stats\n",
    "import pandas as pd\n",
    "import pybeh_pd as pb\n",
    "import matplotlib.pyplot as plt\n",
    "%matplotlib inline"
   ]
  },
  {
   "cell_type": "code",
   "execution_count": 117,
   "id": "ec023e39-798d-41d6-a536-16ab6120177e",
   "metadata": {},
   "outputs": [],
   "source": [
    "#dataset from Loftus & Masson (1994) https://link.springer.com/article/10.3758/BF03210951\n",
    "mat = np.array([[10, 13, 13],\n",
    "          [6, 8, 8], \n",
    "          [11, 14, 14],\n",
    "          [22, 23, 25], \n",
    "          [16, 18, 20], \n",
    "          [15, 17, 17], \n",
    "          [1, 1, 4],\n",
    "          [12, 15, 17],\n",
    "          [9, 12, 12],\n",
    "          [8, 9, 12]])"
   ]
  },
  {
   "cell_type": "markdown",
   "id": "b2759318-c5f4-47a5-b1ea-c89d897c142c",
   "metadata": {},
   "source": [
    "# Table 1"
   ]
  },
  {
   "cell_type": "code",
   "execution_count": 118,
   "id": "dbaafdb5-7227-410e-8846-645b9f8cb018",
   "metadata": {},
   "outputs": [
    {
     "data": {
      "text/html": [
       "<div>\n",
       "<style scoped>\n",
       "    .dataframe tbody tr th:only-of-type {\n",
       "        vertical-align: middle;\n",
       "    }\n",
       "\n",
       "    .dataframe tbody tr th {\n",
       "        vertical-align: top;\n",
       "    }\n",
       "\n",
       "    .dataframe thead th {\n",
       "        text-align: right;\n",
       "    }\n",
       "</style>\n",
       "<table border=\"1\" class=\"dataframe\">\n",
       "  <thead>\n",
       "    <tr style=\"text-align: right;\">\n",
       "      <th></th>\n",
       "      <th>cond_1</th>\n",
       "      <th>cond_2</th>\n",
       "      <th>cond_3</th>\n",
       "    </tr>\n",
       "    <tr>\n",
       "      <th>sub</th>\n",
       "      <th></th>\n",
       "      <th></th>\n",
       "      <th></th>\n",
       "    </tr>\n",
       "  </thead>\n",
       "  <tbody>\n",
       "    <tr>\n",
       "      <th>1</th>\n",
       "      <td>10</td>\n",
       "      <td>13</td>\n",
       "      <td>13</td>\n",
       "    </tr>\n",
       "    <tr>\n",
       "      <th>2</th>\n",
       "      <td>6</td>\n",
       "      <td>8</td>\n",
       "      <td>8</td>\n",
       "    </tr>\n",
       "    <tr>\n",
       "      <th>3</th>\n",
       "      <td>11</td>\n",
       "      <td>14</td>\n",
       "      <td>14</td>\n",
       "    </tr>\n",
       "    <tr>\n",
       "      <th>4</th>\n",
       "      <td>22</td>\n",
       "      <td>23</td>\n",
       "      <td>25</td>\n",
       "    </tr>\n",
       "    <tr>\n",
       "      <th>5</th>\n",
       "      <td>16</td>\n",
       "      <td>18</td>\n",
       "      <td>20</td>\n",
       "    </tr>\n",
       "    <tr>\n",
       "      <th>6</th>\n",
       "      <td>15</td>\n",
       "      <td>17</td>\n",
       "      <td>17</td>\n",
       "    </tr>\n",
       "    <tr>\n",
       "      <th>7</th>\n",
       "      <td>1</td>\n",
       "      <td>1</td>\n",
       "      <td>4</td>\n",
       "    </tr>\n",
       "    <tr>\n",
       "      <th>8</th>\n",
       "      <td>12</td>\n",
       "      <td>15</td>\n",
       "      <td>17</td>\n",
       "    </tr>\n",
       "    <tr>\n",
       "      <th>9</th>\n",
       "      <td>9</td>\n",
       "      <td>12</td>\n",
       "      <td>12</td>\n",
       "    </tr>\n",
       "    <tr>\n",
       "      <th>10</th>\n",
       "      <td>8</td>\n",
       "      <td>9</td>\n",
       "      <td>12</td>\n",
       "    </tr>\n",
       "  </tbody>\n",
       "</table>\n",
       "</div>"
      ],
      "text/plain": [
       "     cond_1  cond_2  cond_3\n",
       "sub                        \n",
       "1        10      13      13\n",
       "2         6       8       8\n",
       "3        11      14      14\n",
       "4        22      23      25\n",
       "5        16      18      20\n",
       "6        15      17      17\n",
       "7         1       1       4\n",
       "8        12      15      17\n",
       "9         9      12      12\n",
       "10        8       9      12"
      ]
     },
     "execution_count": 118,
     "metadata": {},
     "output_type": "execute_result"
    }
   ],
   "source": [
    "mat_df = pd.DataFrame(mat)\n",
    "mat_df.columns = ['cond_1', 'cond_2', 'cond_3']\n",
    "df_table_1 = mat_df.reset_index().rename(columns={'index': 'sub'})\n",
    "df_table_1['sub'] = df_table_1['sub'] + 1\n",
    "df_table_1.set_index('sub')"
   ]
  },
  {
   "cell_type": "code",
   "execution_count": 119,
   "id": "a3e84e00-3f6d-461d-a154-01c86d39daaf",
   "metadata": {},
   "outputs": [
    {
     "data": {
      "text/plain": [
       "cond_1    11.0\n",
       "cond_2    13.0\n",
       "cond_3    14.2\n",
       "dtype: float64"
      ]
     },
     "execution_count": 119,
     "metadata": {},
     "output_type": "execute_result"
    }
   ],
   "source": [
    "df_table_1[['cond_1', 'cond_2', 'cond_3']].mean(axis=0) #table 1"
   ]
  },
  {
   "cell_type": "code",
   "execution_count": 120,
   "id": "2b077fcf-16fb-469d-bb1f-239d7c6c5164",
   "metadata": {},
   "outputs": [
    {
     "data": {
      "text/html": [
       "<div>\n",
       "<style scoped>\n",
       "    .dataframe tbody tr th:only-of-type {\n",
       "        vertical-align: middle;\n",
       "    }\n",
       "\n",
       "    .dataframe tbody tr th {\n",
       "        vertical-align: top;\n",
       "    }\n",
       "\n",
       "    .dataframe thead th {\n",
       "        text-align: right;\n",
       "    }\n",
       "</style>\n",
       "<table border=\"1\" class=\"dataframe\">\n",
       "  <thead>\n",
       "    <tr style=\"text-align: right;\">\n",
       "      <th></th>\n",
       "      <th>sub</th>\n",
       "      <th>cond</th>\n",
       "      <th>value</th>\n",
       "    </tr>\n",
       "  </thead>\n",
       "  <tbody>\n",
       "    <tr>\n",
       "      <th>0</th>\n",
       "      <td>1</td>\n",
       "      <td>cond_1</td>\n",
       "      <td>10</td>\n",
       "    </tr>\n",
       "    <tr>\n",
       "      <th>1</th>\n",
       "      <td>2</td>\n",
       "      <td>cond_1</td>\n",
       "      <td>6</td>\n",
       "    </tr>\n",
       "    <tr>\n",
       "      <th>2</th>\n",
       "      <td>3</td>\n",
       "      <td>cond_1</td>\n",
       "      <td>11</td>\n",
       "    </tr>\n",
       "    <tr>\n",
       "      <th>3</th>\n",
       "      <td>4</td>\n",
       "      <td>cond_1</td>\n",
       "      <td>22</td>\n",
       "    </tr>\n",
       "    <tr>\n",
       "      <th>4</th>\n",
       "      <td>5</td>\n",
       "      <td>cond_1</td>\n",
       "      <td>16</td>\n",
       "    </tr>\n",
       "    <tr>\n",
       "      <th>5</th>\n",
       "      <td>6</td>\n",
       "      <td>cond_1</td>\n",
       "      <td>15</td>\n",
       "    </tr>\n",
       "    <tr>\n",
       "      <th>6</th>\n",
       "      <td>7</td>\n",
       "      <td>cond_1</td>\n",
       "      <td>1</td>\n",
       "    </tr>\n",
       "    <tr>\n",
       "      <th>7</th>\n",
       "      <td>8</td>\n",
       "      <td>cond_1</td>\n",
       "      <td>12</td>\n",
       "    </tr>\n",
       "    <tr>\n",
       "      <th>8</th>\n",
       "      <td>9</td>\n",
       "      <td>cond_1</td>\n",
       "      <td>9</td>\n",
       "    </tr>\n",
       "    <tr>\n",
       "      <th>9</th>\n",
       "      <td>10</td>\n",
       "      <td>cond_1</td>\n",
       "      <td>8</td>\n",
       "    </tr>\n",
       "    <tr>\n",
       "      <th>10</th>\n",
       "      <td>1</td>\n",
       "      <td>cond_2</td>\n",
       "      <td>13</td>\n",
       "    </tr>\n",
       "    <tr>\n",
       "      <th>11</th>\n",
       "      <td>2</td>\n",
       "      <td>cond_2</td>\n",
       "      <td>8</td>\n",
       "    </tr>\n",
       "    <tr>\n",
       "      <th>12</th>\n",
       "      <td>3</td>\n",
       "      <td>cond_2</td>\n",
       "      <td>14</td>\n",
       "    </tr>\n",
       "    <tr>\n",
       "      <th>13</th>\n",
       "      <td>4</td>\n",
       "      <td>cond_2</td>\n",
       "      <td>23</td>\n",
       "    </tr>\n",
       "    <tr>\n",
       "      <th>14</th>\n",
       "      <td>5</td>\n",
       "      <td>cond_2</td>\n",
       "      <td>18</td>\n",
       "    </tr>\n",
       "    <tr>\n",
       "      <th>15</th>\n",
       "      <td>6</td>\n",
       "      <td>cond_2</td>\n",
       "      <td>17</td>\n",
       "    </tr>\n",
       "    <tr>\n",
       "      <th>16</th>\n",
       "      <td>7</td>\n",
       "      <td>cond_2</td>\n",
       "      <td>1</td>\n",
       "    </tr>\n",
       "    <tr>\n",
       "      <th>17</th>\n",
       "      <td>8</td>\n",
       "      <td>cond_2</td>\n",
       "      <td>15</td>\n",
       "    </tr>\n",
       "    <tr>\n",
       "      <th>18</th>\n",
       "      <td>9</td>\n",
       "      <td>cond_2</td>\n",
       "      <td>12</td>\n",
       "    </tr>\n",
       "    <tr>\n",
       "      <th>19</th>\n",
       "      <td>10</td>\n",
       "      <td>cond_2</td>\n",
       "      <td>9</td>\n",
       "    </tr>\n",
       "    <tr>\n",
       "      <th>20</th>\n",
       "      <td>1</td>\n",
       "      <td>cond_3</td>\n",
       "      <td>13</td>\n",
       "    </tr>\n",
       "    <tr>\n",
       "      <th>21</th>\n",
       "      <td>2</td>\n",
       "      <td>cond_3</td>\n",
       "      <td>8</td>\n",
       "    </tr>\n",
       "    <tr>\n",
       "      <th>22</th>\n",
       "      <td>3</td>\n",
       "      <td>cond_3</td>\n",
       "      <td>14</td>\n",
       "    </tr>\n",
       "    <tr>\n",
       "      <th>23</th>\n",
       "      <td>4</td>\n",
       "      <td>cond_3</td>\n",
       "      <td>25</td>\n",
       "    </tr>\n",
       "    <tr>\n",
       "      <th>24</th>\n",
       "      <td>5</td>\n",
       "      <td>cond_3</td>\n",
       "      <td>20</td>\n",
       "    </tr>\n",
       "    <tr>\n",
       "      <th>25</th>\n",
       "      <td>6</td>\n",
       "      <td>cond_3</td>\n",
       "      <td>17</td>\n",
       "    </tr>\n",
       "    <tr>\n",
       "      <th>26</th>\n",
       "      <td>7</td>\n",
       "      <td>cond_3</td>\n",
       "      <td>4</td>\n",
       "    </tr>\n",
       "    <tr>\n",
       "      <th>27</th>\n",
       "      <td>8</td>\n",
       "      <td>cond_3</td>\n",
       "      <td>17</td>\n",
       "    </tr>\n",
       "    <tr>\n",
       "      <th>28</th>\n",
       "      <td>9</td>\n",
       "      <td>cond_3</td>\n",
       "      <td>12</td>\n",
       "    </tr>\n",
       "    <tr>\n",
       "      <th>29</th>\n",
       "      <td>10</td>\n",
       "      <td>cond_3</td>\n",
       "      <td>12</td>\n",
       "    </tr>\n",
       "  </tbody>\n",
       "</table>\n",
       "</div>"
      ],
      "text/plain": [
       "    sub    cond  value\n",
       "0     1  cond_1     10\n",
       "1     2  cond_1      6\n",
       "2     3  cond_1     11\n",
       "3     4  cond_1     22\n",
       "4     5  cond_1     16\n",
       "5     6  cond_1     15\n",
       "6     7  cond_1      1\n",
       "7     8  cond_1     12\n",
       "8     9  cond_1      9\n",
       "9    10  cond_1      8\n",
       "10    1  cond_2     13\n",
       "11    2  cond_2      8\n",
       "12    3  cond_2     14\n",
       "13    4  cond_2     23\n",
       "14    5  cond_2     18\n",
       "15    6  cond_2     17\n",
       "16    7  cond_2      1\n",
       "17    8  cond_2     15\n",
       "18    9  cond_2     12\n",
       "19   10  cond_2      9\n",
       "20    1  cond_3     13\n",
       "21    2  cond_3      8\n",
       "22    3  cond_3     14\n",
       "23    4  cond_3     25\n",
       "24    5  cond_3     20\n",
       "25    6  cond_3     17\n",
       "26    7  cond_3      4\n",
       "27    8  cond_3     17\n",
       "28    9  cond_3     12\n",
       "29   10  cond_3     12"
      ]
     },
     "execution_count": 120,
     "metadata": {},
     "output_type": "execute_result"
    }
   ],
   "source": [
    "#turn into long pandas dataframe so it's more like our traditional datasets\n",
    "df_long = pd.melt(df_table_1, id_vars='sub', var_name='cond')\n",
    "df_long"
   ]
  },
  {
   "cell_type": "code",
   "execution_count": 121,
   "id": "9a310333-e57a-4729-a360-1d87f08045a8",
   "metadata": {},
   "outputs": [],
   "source": [
    "n_subs = df_long['sub'].nunique()\n",
    "n_conds = df_long['cond'].nunique()"
   ]
  },
  {
   "cell_type": "markdown",
   "id": "31de0913-ae00-4609-99b0-cf017d5f8d73",
   "metadata": {},
   "source": [
    "# Table 2"
   ]
  },
  {
   "cell_type": "code",
   "execution_count": 122,
   "id": "1f34987b-7166-48bc-a337-94557c817aae",
   "metadata": {},
   "outputs": [
    {
     "data": {
      "text/plain": [
       "12.733333333333333"
      ]
     },
     "execution_count": 122,
     "metadata": {},
     "output_type": "execute_result"
    }
   ],
   "source": [
    "M = df_long['value'].mean()\n",
    "M_S = df_long.groupby(['sub'], as_index=False).agg({'value': 'mean'})\n",
    "M_C = df_long.groupby(['cond'], as_index=False).agg({'value': 'mean'})\n",
    "M #grand mean"
   ]
  },
  {
   "cell_type": "code",
   "execution_count": 123,
   "id": "9dc7de77-f4fb-43fa-9043-1319107f7be0",
   "metadata": {},
   "outputs": [
    {
     "data": {
      "text/html": [
       "<div>\n",
       "<style scoped>\n",
       "    .dataframe tbody tr th:only-of-type {\n",
       "        vertical-align: middle;\n",
       "    }\n",
       "\n",
       "    .dataframe tbody tr th {\n",
       "        vertical-align: top;\n",
       "    }\n",
       "\n",
       "    .dataframe thead th {\n",
       "        text-align: right;\n",
       "    }\n",
       "</style>\n",
       "<table border=\"1\" class=\"dataframe\">\n",
       "  <thead>\n",
       "    <tr style=\"text-align: right;\">\n",
       "      <th></th>\n",
       "      <th>sub</th>\n",
       "      <th>value</th>\n",
       "    </tr>\n",
       "  </thead>\n",
       "  <tbody>\n",
       "    <tr>\n",
       "      <th>0</th>\n",
       "      <td>1</td>\n",
       "      <td>12.000000</td>\n",
       "    </tr>\n",
       "    <tr>\n",
       "      <th>1</th>\n",
       "      <td>2</td>\n",
       "      <td>7.333333</td>\n",
       "    </tr>\n",
       "    <tr>\n",
       "      <th>2</th>\n",
       "      <td>3</td>\n",
       "      <td>13.000000</td>\n",
       "    </tr>\n",
       "    <tr>\n",
       "      <th>3</th>\n",
       "      <td>4</td>\n",
       "      <td>23.333333</td>\n",
       "    </tr>\n",
       "    <tr>\n",
       "      <th>4</th>\n",
       "      <td>5</td>\n",
       "      <td>18.000000</td>\n",
       "    </tr>\n",
       "    <tr>\n",
       "      <th>5</th>\n",
       "      <td>6</td>\n",
       "      <td>16.333333</td>\n",
       "    </tr>\n",
       "    <tr>\n",
       "      <th>6</th>\n",
       "      <td>7</td>\n",
       "      <td>2.000000</td>\n",
       "    </tr>\n",
       "    <tr>\n",
       "      <th>7</th>\n",
       "      <td>8</td>\n",
       "      <td>14.666667</td>\n",
       "    </tr>\n",
       "    <tr>\n",
       "      <th>8</th>\n",
       "      <td>9</td>\n",
       "      <td>11.000000</td>\n",
       "    </tr>\n",
       "    <tr>\n",
       "      <th>9</th>\n",
       "      <td>10</td>\n",
       "      <td>9.666667</td>\n",
       "    </tr>\n",
       "  </tbody>\n",
       "</table>\n",
       "</div>"
      ],
      "text/plain": [
       "   sub      value\n",
       "0    1  12.000000\n",
       "1    2   7.333333\n",
       "2    3  13.000000\n",
       "3    4  23.333333\n",
       "4    5  18.000000\n",
       "5    6  16.333333\n",
       "6    7   2.000000\n",
       "7    8  14.666667\n",
       "8    9  11.000000\n",
       "9   10   9.666667"
      ]
     },
     "execution_count": 123,
     "metadata": {},
     "output_type": "execute_result"
    }
   ],
   "source": [
    "#subject means\n",
    "M_S"
   ]
  },
  {
   "cell_type": "code",
   "execution_count": 124,
   "id": "0a75a790-c1ca-4b8b-b455-0f8a8c66bc34",
   "metadata": {},
   "outputs": [
    {
     "data": {
      "text/html": [
       "<div>\n",
       "<style scoped>\n",
       "    .dataframe tbody tr th:only-of-type {\n",
       "        vertical-align: middle;\n",
       "    }\n",
       "\n",
       "    .dataframe tbody tr th {\n",
       "        vertical-align: top;\n",
       "    }\n",
       "\n",
       "    .dataframe thead th {\n",
       "        text-align: right;\n",
       "    }\n",
       "</style>\n",
       "<table border=\"1\" class=\"dataframe\">\n",
       "  <thead>\n",
       "    <tr style=\"text-align: right;\">\n",
       "      <th></th>\n",
       "      <th>cond</th>\n",
       "      <th>value</th>\n",
       "    </tr>\n",
       "  </thead>\n",
       "  <tbody>\n",
       "    <tr>\n",
       "      <th>0</th>\n",
       "      <td>cond_1</td>\n",
       "      <td>11.0</td>\n",
       "    </tr>\n",
       "    <tr>\n",
       "      <th>1</th>\n",
       "      <td>cond_2</td>\n",
       "      <td>13.0</td>\n",
       "    </tr>\n",
       "    <tr>\n",
       "      <th>2</th>\n",
       "      <td>cond_3</td>\n",
       "      <td>14.2</td>\n",
       "    </tr>\n",
       "  </tbody>\n",
       "</table>\n",
       "</div>"
      ],
      "text/plain": [
       "     cond  value\n",
       "0  cond_1   11.0\n",
       "1  cond_2   13.0\n",
       "2  cond_3   14.2"
      ]
     },
     "execution_count": 124,
     "metadata": {},
     "output_type": "execute_result"
    }
   ],
   "source": [
    "#condition means\n",
    "M_C"
   ]
  },
  {
   "cell_type": "markdown",
   "id": "434e1782-0417-4432-a23f-fd3a93398d20",
   "metadata": {},
   "source": [
    "## Table 3"
   ]
  },
  {
   "cell_type": "code",
   "execution_count": 125,
   "id": "66770a83-3e28-45c9-b520-ac3356d15088",
   "metadata": {},
   "outputs": [],
   "source": [
    "#Table 3\n",
    "df_table_3 = df_long.copy()\n",
    "df_table_3['M'] = df_long['value'].mean()\n",
    "df_table_3['M_S'] = df_long.groupby(['sub'])['value'].transform('mean')\n",
    "df_table_3['value'] = df_table_3['value'] - df_table_3['M_S'] + df_table_3['M']"
   ]
  },
  {
   "cell_type": "code",
   "execution_count": 126,
   "id": "3391d537-57d0-47c7-89a7-372fcd4e8889",
   "metadata": {},
   "outputs": [
    {
     "data": {
      "text/html": [
       "<div>\n",
       "<style scoped>\n",
       "    .dataframe tbody tr th:only-of-type {\n",
       "        vertical-align: middle;\n",
       "    }\n",
       "\n",
       "    .dataframe tbody tr th {\n",
       "        vertical-align: top;\n",
       "    }\n",
       "\n",
       "    .dataframe thead th {\n",
       "        text-align: right;\n",
       "    }\n",
       "</style>\n",
       "<table border=\"1\" class=\"dataframe\">\n",
       "  <thead>\n",
       "    <tr style=\"text-align: right;\">\n",
       "      <th>cond</th>\n",
       "      <th>cond_1</th>\n",
       "      <th>cond_2</th>\n",
       "      <th>cond_3</th>\n",
       "    </tr>\n",
       "    <tr>\n",
       "      <th>sub</th>\n",
       "      <th></th>\n",
       "      <th></th>\n",
       "      <th></th>\n",
       "    </tr>\n",
       "  </thead>\n",
       "  <tbody>\n",
       "    <tr>\n",
       "      <th>1</th>\n",
       "      <td>10.733333</td>\n",
       "      <td>13.733333</td>\n",
       "      <td>13.733333</td>\n",
       "    </tr>\n",
       "    <tr>\n",
       "      <th>2</th>\n",
       "      <td>11.400000</td>\n",
       "      <td>13.400000</td>\n",
       "      <td>13.400000</td>\n",
       "    </tr>\n",
       "    <tr>\n",
       "      <th>3</th>\n",
       "      <td>10.733333</td>\n",
       "      <td>13.733333</td>\n",
       "      <td>13.733333</td>\n",
       "    </tr>\n",
       "    <tr>\n",
       "      <th>4</th>\n",
       "      <td>11.400000</td>\n",
       "      <td>12.400000</td>\n",
       "      <td>14.400000</td>\n",
       "    </tr>\n",
       "    <tr>\n",
       "      <th>5</th>\n",
       "      <td>10.733333</td>\n",
       "      <td>12.733333</td>\n",
       "      <td>14.733333</td>\n",
       "    </tr>\n",
       "    <tr>\n",
       "      <th>6</th>\n",
       "      <td>11.400000</td>\n",
       "      <td>13.400000</td>\n",
       "      <td>13.400000</td>\n",
       "    </tr>\n",
       "    <tr>\n",
       "      <th>7</th>\n",
       "      <td>11.733333</td>\n",
       "      <td>11.733333</td>\n",
       "      <td>14.733333</td>\n",
       "    </tr>\n",
       "    <tr>\n",
       "      <th>8</th>\n",
       "      <td>10.066667</td>\n",
       "      <td>13.066667</td>\n",
       "      <td>15.066667</td>\n",
       "    </tr>\n",
       "    <tr>\n",
       "      <th>9</th>\n",
       "      <td>10.733333</td>\n",
       "      <td>13.733333</td>\n",
       "      <td>13.733333</td>\n",
       "    </tr>\n",
       "    <tr>\n",
       "      <th>10</th>\n",
       "      <td>11.066667</td>\n",
       "      <td>12.066667</td>\n",
       "      <td>15.066667</td>\n",
       "    </tr>\n",
       "  </tbody>\n",
       "</table>\n",
       "</div>"
      ],
      "text/plain": [
       "cond     cond_1     cond_2     cond_3\n",
       "sub                                  \n",
       "1     10.733333  13.733333  13.733333\n",
       "2     11.400000  13.400000  13.400000\n",
       "3     10.733333  13.733333  13.733333\n",
       "4     11.400000  12.400000  14.400000\n",
       "5     10.733333  12.733333  14.733333\n",
       "6     11.400000  13.400000  13.400000\n",
       "7     11.733333  11.733333  14.733333\n",
       "8     10.066667  13.066667  15.066667\n",
       "9     10.733333  13.733333  13.733333\n",
       "10    11.066667  12.066667  15.066667"
      ]
     },
     "execution_count": 126,
     "metadata": {},
     "output_type": "execute_result"
    }
   ],
   "source": [
    "df_table_3.pivot_table(values='value', index='sub', columns='cond')"
   ]
  },
  {
   "cell_type": "code",
   "execution_count": 127,
   "id": "93b26db1-35d8-4136-a545-2d515e0070d9",
   "metadata": {},
   "outputs": [
    {
     "data": {
      "text/plain": [
       "12.73333333333333"
      ]
     },
     "execution_count": 127,
     "metadata": {},
     "output_type": "execute_result"
    }
   ],
   "source": [
    "M = df_table_3['value'].mean()\n",
    "M_S = df_table_3.groupby(['sub']).agg({'value': 'mean'})\n",
    "M_C = df_table_3.groupby(['cond']).agg({'value': 'mean'})\n",
    "M"
   ]
  },
  {
   "cell_type": "code",
   "execution_count": 128,
   "id": "d9277087-e34a-47bc-a435-8c5e8ada1964",
   "metadata": {},
   "outputs": [
    {
     "data": {
      "text/html": [
       "<div>\n",
       "<style scoped>\n",
       "    .dataframe tbody tr th:only-of-type {\n",
       "        vertical-align: middle;\n",
       "    }\n",
       "\n",
       "    .dataframe tbody tr th {\n",
       "        vertical-align: top;\n",
       "    }\n",
       "\n",
       "    .dataframe thead th {\n",
       "        text-align: right;\n",
       "    }\n",
       "</style>\n",
       "<table border=\"1\" class=\"dataframe\">\n",
       "  <thead>\n",
       "    <tr style=\"text-align: right;\">\n",
       "      <th></th>\n",
       "      <th>value</th>\n",
       "    </tr>\n",
       "    <tr>\n",
       "      <th>sub</th>\n",
       "      <th></th>\n",
       "    </tr>\n",
       "  </thead>\n",
       "  <tbody>\n",
       "    <tr>\n",
       "      <th>1</th>\n",
       "      <td>12.733333</td>\n",
       "    </tr>\n",
       "    <tr>\n",
       "      <th>2</th>\n",
       "      <td>12.733333</td>\n",
       "    </tr>\n",
       "    <tr>\n",
       "      <th>3</th>\n",
       "      <td>12.733333</td>\n",
       "    </tr>\n",
       "    <tr>\n",
       "      <th>4</th>\n",
       "      <td>12.733333</td>\n",
       "    </tr>\n",
       "    <tr>\n",
       "      <th>5</th>\n",
       "      <td>12.733333</td>\n",
       "    </tr>\n",
       "    <tr>\n",
       "      <th>6</th>\n",
       "      <td>12.733333</td>\n",
       "    </tr>\n",
       "    <tr>\n",
       "      <th>7</th>\n",
       "      <td>12.733333</td>\n",
       "    </tr>\n",
       "    <tr>\n",
       "      <th>8</th>\n",
       "      <td>12.733333</td>\n",
       "    </tr>\n",
       "    <tr>\n",
       "      <th>9</th>\n",
       "      <td>12.733333</td>\n",
       "    </tr>\n",
       "    <tr>\n",
       "      <th>10</th>\n",
       "      <td>12.733333</td>\n",
       "    </tr>\n",
       "  </tbody>\n",
       "</table>\n",
       "</div>"
      ],
      "text/plain": [
       "         value\n",
       "sub           \n",
       "1    12.733333\n",
       "2    12.733333\n",
       "3    12.733333\n",
       "4    12.733333\n",
       "5    12.733333\n",
       "6    12.733333\n",
       "7    12.733333\n",
       "8    12.733333\n",
       "9    12.733333\n",
       "10   12.733333"
      ]
     },
     "execution_count": 128,
     "metadata": {},
     "output_type": "execute_result"
    }
   ],
   "source": [
    "M_S"
   ]
  },
  {
   "cell_type": "code",
   "execution_count": 129,
   "id": "9f87b5ab-4b81-4650-b1b6-0dc423708c05",
   "metadata": {},
   "outputs": [
    {
     "data": {
      "text/html": [
       "<div>\n",
       "<style scoped>\n",
       "    .dataframe tbody tr th:only-of-type {\n",
       "        vertical-align: middle;\n",
       "    }\n",
       "\n",
       "    .dataframe tbody tr th {\n",
       "        vertical-align: top;\n",
       "    }\n",
       "\n",
       "    .dataframe thead th {\n",
       "        text-align: right;\n",
       "    }\n",
       "</style>\n",
       "<table border=\"1\" class=\"dataframe\">\n",
       "  <thead>\n",
       "    <tr style=\"text-align: right;\">\n",
       "      <th></th>\n",
       "      <th>value</th>\n",
       "    </tr>\n",
       "    <tr>\n",
       "      <th>cond</th>\n",
       "      <th></th>\n",
       "    </tr>\n",
       "  </thead>\n",
       "  <tbody>\n",
       "    <tr>\n",
       "      <th>cond_1</th>\n",
       "      <td>11.0</td>\n",
       "    </tr>\n",
       "    <tr>\n",
       "      <th>cond_2</th>\n",
       "      <td>13.0</td>\n",
       "    </tr>\n",
       "    <tr>\n",
       "      <th>cond_3</th>\n",
       "      <td>14.2</td>\n",
       "    </tr>\n",
       "  </tbody>\n",
       "</table>\n",
       "</div>"
      ],
      "text/plain": [
       "        value\n",
       "cond         \n",
       "cond_1   11.0\n",
       "cond_2   13.0\n",
       "cond_3   14.2"
      ]
     },
     "execution_count": 129,
     "metadata": {},
     "output_type": "execute_result"
    }
   ],
   "source": [
    "M_C"
   ]
  },
  {
   "cell_type": "markdown",
   "id": "33af8ec0-646b-473e-b94f-bf719f55c1e4",
   "metadata": {},
   "source": [
    "# Full computation"
   ]
  },
  {
   "cell_type": "code",
   "execution_count": 187,
   "id": "77faf463-6997-4857-a8c0-5d98af3df587",
   "metadata": {},
   "outputs": [
    {
     "data": {
      "text/plain": [
       "0.5209332748849111"
      ]
     },
     "execution_count": 187,
     "metadata": {},
     "output_type": "execute_result"
    }
   ],
   "source": [
    "df_a = df_long.copy()\n",
    "df_a['M'] = df_a['value'].mean()\n",
    "df_a['M_S'] = df_a.groupby(['sub'])['value'].transform('mean')\n",
    "df_a['M_C'] = df_a.groupby(['cond'])['value'].transform('mean')\n",
    "M_C = df_a.groupby(['cond']).agg({'value': 'mean'})['value'].values\n",
    "\n",
    "#appendix A\n",
    "# df_a['y_ij'] = ((df_a['value'] + df_a['M'] - df_a['M_S'])\n",
    "df_a['S_W'] = ((df_a['value'] + df_a['M'] - df_a['M_S'] - df_a['M_C']) ** 2) \n",
    "\n",
    "SS_W = df_a['S_W'].sum() #Figure 3\n",
    "\n",
    "# MS_SxC = df_a['S_W'].mean() #biased estimate\n",
    "df = (n_subs - 1) * (n_conds - 1) #18, pg.482\n",
    "MS_SxC = SS_W / df #same as using n - 1 in standard deviation computation\n",
    "\n",
    "SE = np.sqrt(MS_SxC / n_subs)\n",
    "tval = sp.stats.t.ppf(0.975, df)\n",
    "CI = SE * tval # Eq. 2, pg. 482\n",
    "CI"
   ]
  },
  {
   "cell_type": "markdown",
   "id": "1e141828-7357-4852-951e-52033dbcb803",
   "metadata": {},
   "source": [
    "### Equal Variances"
   ]
  },
  {
   "cell_type": "code",
   "execution_count": 131,
   "id": "81b641e7-9e50-445d-9ada-859bf3765e64",
   "metadata": {},
   "outputs": [
    {
     "data": {
      "text/plain": [
       "<ErrorbarContainer object of 3 artists>"
      ]
     },
     "execution_count": 131,
     "metadata": {},
     "output_type": "execute_result"
    },
    {
     "data": {
      "image/png": "[encoded data removed]",
      "text/plain": [
       "<Figure size 432x288 with 1 Axes>"
      ]
     },
     "metadata": {
      "needs_background": "light"
     },
     "output_type": "display_data"
    }
   ],
   "source": [
    "#Figure 5\n",
    "plt.errorbar(x=[1, 2, 5], y=M_C, yerr=CI)"
   ]
  },
  {
   "cell_type": "markdown",
   "id": "e6b55f85-e0f7-4cac-b79c-9eea8d6571f2",
   "metadata": {},
   "source": [
    "### Unequal Variances"
   ]
  },
  {
   "cell_type": "code",
   "execution_count": 274,
   "id": "bea74404-139b-4454-8c71-3dc4eb18fc4f",
   "metadata": {},
   "outputs": [],
   "source": [
    "df_MS = df_a.groupby(['cond', 'M_C'], as_index=False).agg({'S_W': 'sum'})\n",
    "df_MS['MS_W'] = df_MS['S_W'] / (n_subs - 1)\n",
    "df_MS['estimator'] = (n_conds / (n_conds - 1)) * (df_MS['MS_W'] - (MS_SxC / (n_conds)))\n",
    "df_MS['CI'] = np.sqrt(df_MS['estimator'] / n_subs) * sp.stats.t.ppf(0.975, (n_subs-1))"
   ]
  },
  {
   "cell_type": "code",
   "execution_count": 275,
   "id": "ac4ef73f-f9d5-4a0d-9d02-835c4ca916d6",
   "metadata": {},
   "outputs": [
    {
     "data": {
      "text/plain": [
       "<ErrorbarContainer object of 3 artists>"
      ]
     },
     "execution_count": 275,
     "metadata": {},
     "output_type": "execute_result"
    },
    {
     "data": {
      "image/png": "[encoded data removed]",
      "text/plain": [
       "<Figure size 432x288 with 1 Axes>"
      ]
     },
     "metadata": {
      "needs_background": "light"
     },
     "output_type": "display_data"
    }
   ],
   "source": [
    "plt.errorbar(x=[1, 2, 5], y='M_C', yerr='CI', data=df_MS)"
   ]
  },
  {
   "cell_type": "markdown",
   "id": "4149d795-50b5-47d2-9c45-fed734f68ab3",
   "metadata": {},
   "source": [
    "# Using analytic pybeh function"
   ]
  },
  {
   "cell_type": "code",
   "execution_count": 283,
   "id": "f5962d33-cb84-46a1-a187-919adbdf923b",
   "metadata": {},
   "outputs": [
    {
     "data": {
      "text/plain": [
       "<ErrorbarContainer object of 3 artists>"
      ]
     },
     "execution_count": 283,
     "metadata": {},
     "output_type": "execute_result"
    },
    {
     "data": {
      "image/png": "[encoded data removed]",
      "text/plain": [
       "<Figure size 432x288 with 1 Axes>"
      ]
     },
     "metadata": {
      "needs_background": "light"
     },
     "output_type": "display_data"
    }
   ],
   "source": [
    "#function requires a column for \"subject\", \"condition\" and the \"value\" for each subject in each condition\n",
    "df_loftus_masson = pb.loftus_masson_analytic(df_long, 'sub', 'cond', 'value')\n",
    "plt.errorbar(x=[1, 2, 5], y='M_C', yerr='CI_equal', data=df_loftus_masson)"
   ]
  },
  {
   "cell_type": "code",
   "execution_count": 284,
   "id": "f1d5c6b8-6a25-4ce4-9828-8c66bf45d1ce",
   "metadata": {},
   "outputs": [
    {
     "data": {
      "text/plain": [
       "<ErrorbarContainer object of 3 artists>"
      ]
     },
     "execution_count": 284,
     "metadata": {},
     "output_type": "execute_result"
    },
    {
     "data": {
      "image/png": "[encoded data removed]",
      "text/plain": [
       "<Figure size 432x288 with 1 Axes>"
      ]
     },
     "metadata": {
      "needs_background": "light"
     },
     "output_type": "display_data"
    }
   ],
   "source": [
    "plt.errorbar(x=[1, 2, 5], y='M_C', yerr='CI_unequal', data=df_loftus_masson)"
   ]
  },
  {
   "cell_type": "markdown",
   "id": "f9978950-767c-4998-971a-a2736c82b587",
   "metadata": {},
   "source": [
    "## FR1 SPC example"
   ]
  },
  {
   "cell_type": "code",
   "execution_count": 285,
   "id": "8266cc02-5435-4d5c-8f38-76e0d626f561",
   "metadata": {},
   "outputs": [],
   "source": [
    "import cmlreaders as cml\n",
    "import seaborn as sns"
   ]
  },
  {
   "cell_type": "code",
   "execution_count": 286,
   "id": "92d01ab6-5a66-4d8c-bfa7-c53627b132c2",
   "metadata": {},
   "outputs": [],
   "source": [
    "all_fr1_events = cml.CMLReader.load_events(experiments=[\"FR1\"])"
   ]
  },
  {
   "cell_type": "code",
   "execution_count": 287,
   "id": "c3ddceee-5709-495f-8e61-5aeaabdaa36a",
   "metadata": {},
   "outputs": [],
   "source": [
    "word_evs = all_fr1_events.query('type == \"WORD\"')"
   ]
  },
  {
   "cell_type": "code",
   "execution_count": 288,
   "id": "1e3502cb-bfc9-4da2-9c2f-a969e83b4790",
   "metadata": {},
   "outputs": [],
   "source": [
    "spc_sess_df = word_evs.groupby(['subject', 'session', 'serialpos'], as_index=False).agg({'recalled': 'mean'})\n",
    "spc_df = spc_sess_df.groupby(['subject', 'serialpos'], as_index=False).agg({'recalled': 'mean'})"
   ]
  },
  {
   "cell_type": "code",
   "execution_count": 289,
   "id": "aca53f5f-46e5-4aed-ba7f-9b9a8f5cca95",
   "metadata": {},
   "outputs": [
    {
     "data": {
      "text/plain": [
       "<seaborn.axisgrid.FacetGrid at 0x2b40866d0ad0>"
      ]
     },
     "execution_count": 289,
     "metadata": {},
     "output_type": "execute_result"
    },
    {
     "data": {
      "image/png": "[encoded data removed]",
      "text/plain": [
       "<Figure size 360x360 with 1 Axes>"
      ]
     },
     "metadata": {
      "needs_background": "light"
     },
     "output_type": "display_data"
    }
   ],
   "source": [
    "#between-subject errorbars\n",
    "g = sns.relplot(x='serialpos', y='recalled', data=spc_df, kind='line', err_style=\"bars\")\n",
    "g.set(xlabel='Serial Position', ylabel='P(recalled)')"
   ]
  },
  {
   "cell_type": "code",
   "execution_count": 298,
   "id": "4d4e9603-7647-4411-b4ae-89871584cd7b",
   "metadata": {},
   "outputs": [
    {
     "data": {
      "text/plain": [
       "<ErrorbarContainer object of 3 artists>"
      ]
     },
     "execution_count": 298,
     "metadata": {},
     "output_type": "execute_result"
    },
    {
     "data": {
      "image/png": "[encoded data removed]",
      "text/plain": [
       "<Figure size 432x288 with 1 Axes>"
      ]
     },
     "metadata": {
      "needs_background": "light"
     },
     "output_type": "display_data"
    }
   ],
   "source": [
    "#within-subject errorbars -- notice they are smaller than above\n",
    "spc_df_loftus_masson = pb.loftus_masson_analytic(spc_df, 'subject', 'serialpos', 'recalled')\n",
    "plt.errorbar(x='serialpos', y='M_C', yerr='CI_equal', data=spc_df_loftus_masson)"
   ]
  },
  {
   "cell_type": "code",
   "execution_count": 299,
   "id": "61b6e54d-3fbf-4848-b545-eb478b15dd8d",
   "metadata": {},
   "outputs": [
    {
     "data": {
      "text/plain": [
       "<ErrorbarContainer object of 3 artists>"
      ]
     },
     "execution_count": 299,
     "metadata": {},
     "output_type": "execute_result"
    },
    {
     "data": {
      "image/png": "[encoded data removed]",
      "text/plain": [
       "<Figure size 432x288 with 1 Axes>"
      ]
     },
     "metadata": {
      "needs_background": "light"
     },
     "output_type": "display_data"
    }
   ],
   "source": [
    "plt.errorbar(x='serialpos', y='M_C', yerr='CI_unequal', data=spc_df_loftus_masson)"
   ]
  },
  {
   "cell_type": "code",
   "execution_count": null,
   "id": "16aede42-7a4c-4c61-ac24-3ce63e20d68b",
   "metadata": {},
   "outputs": [],
   "source": []
  }
 ],
 "metadata": {
  "kernelspec": {
   "display_name": "“cml”",
   "language": "python",
   "name": "cml"
  },
  "language_info": {
   "codemirror_mode": {
    "name": "ipython",
    "version": 3
   },
   "file_extension": ".py",
   "mimetype": "text/x-python",
   "name": "python",
   "nbconvert_exporter": "python",
   "pygments_lexer": "ipython3",
   "version": "3.7.9"
  }
 },
 "nbformat": 4,
 "nbformat_minor": 5
}
