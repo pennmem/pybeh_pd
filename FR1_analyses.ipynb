{
 "cells": [
  {
   "cell_type": "code",
   "execution_count": 1,
   "id": "2b5aaa88-e071-4d63-962f-6f800e7c37ee",
   "metadata": {},
   "outputs": [],
   "source": [
    "%matplotlib inline\n",
    "import cmlreaders as cml\n",
    "import pybeh_pd as pb\n",
    "import numpy as np\n",
    "import seaborn as sns\n",
    "import pandas as pd"
   ]
  },
  {
   "cell_type": "code",
   "execution_count": 2,
   "id": "e2f83696-f626-4a38-a423-b513cdf549b3",
   "metadata": {},
   "outputs": [],
   "source": [
    "all_fr1_events = cml.CMLReader.load_events(experiments=[\"FR1\"])"
   ]
  },
  {
   "cell_type": "code",
   "execution_count": 5,
   "id": "3c9fd2d3-6802-4c65-9556-bf2384824963",
   "metadata": {},
   "outputs": [
    {
     "data": {
      "text/html": [
       "<div>\n",
       "<style scoped>\n",
       "    .dataframe tbody tr th:only-of-type {\n",
       "        vertical-align: middle;\n",
       "    }\n",
       "\n",
       "    .dataframe tbody tr th {\n",
       "        vertical-align: top;\n",
       "    }\n",
       "\n",
       "    .dataframe thead th {\n",
       "        text-align: right;\n",
       "    }\n",
       "</style>\n",
       "<table border=\"1\" class=\"dataframe\">\n",
       "  <thead>\n",
       "    <tr style=\"text-align: right;\">\n",
       "      <th></th>\n",
       "      <th>subject</th>\n",
       "      <th>session</th>\n",
       "      <th>list</th>\n",
       "      <th>item_num</th>\n",
       "      <th>size</th>\n",
       "    </tr>\n",
       "  </thead>\n",
       "  <tbody>\n",
       "    <tr>\n",
       "      <th>0</th>\n",
       "      <td>R1001P</td>\n",
       "      <td>0</td>\n",
       "      <td>1</td>\n",
       "      <td>35</td>\n",
       "      <td>1</td>\n",
       "    </tr>\n",
       "    <tr>\n",
       "      <th>1</th>\n",
       "      <td>R1001P</td>\n",
       "      <td>0</td>\n",
       "      <td>1</td>\n",
       "      <td>58</td>\n",
       "      <td>1</td>\n",
       "    </tr>\n",
       "    <tr>\n",
       "      <th>2</th>\n",
       "      <td>R1001P</td>\n",
       "      <td>0</td>\n",
       "      <td>1</td>\n",
       "      <td>110</td>\n",
       "      <td>1</td>\n",
       "    </tr>\n",
       "    <tr>\n",
       "      <th>3</th>\n",
       "      <td>R1001P</td>\n",
       "      <td>0</td>\n",
       "      <td>1</td>\n",
       "      <td>114</td>\n",
       "      <td>1</td>\n",
       "    </tr>\n",
       "    <tr>\n",
       "      <th>4</th>\n",
       "      <td>R1001P</td>\n",
       "      <td>0</td>\n",
       "      <td>1</td>\n",
       "      <td>120</td>\n",
       "      <td>1</td>\n",
       "    </tr>\n",
       "    <tr>\n",
       "      <th>...</th>\n",
       "      <td>...</td>\n",
       "      <td>...</td>\n",
       "      <td>...</td>\n",
       "      <td>...</td>\n",
       "      <td>...</td>\n",
       "    </tr>\n",
       "    <tr>\n",
       "      <th>136321</th>\n",
       "      <td>R1573T</td>\n",
       "      <td>0</td>\n",
       "      <td>9</td>\n",
       "      <td>291</td>\n",
       "      <td>1</td>\n",
       "    </tr>\n",
       "    <tr>\n",
       "      <th>136322</th>\n",
       "      <td>R1573T</td>\n",
       "      <td>0</td>\n",
       "      <td>10</td>\n",
       "      <td>62</td>\n",
       "      <td>1</td>\n",
       "    </tr>\n",
       "    <tr>\n",
       "      <th>136323</th>\n",
       "      <td>R1573T</td>\n",
       "      <td>0</td>\n",
       "      <td>10</td>\n",
       "      <td>138</td>\n",
       "      <td>1</td>\n",
       "    </tr>\n",
       "    <tr>\n",
       "      <th>136324</th>\n",
       "      <td>R1573T</td>\n",
       "      <td>0</td>\n",
       "      <td>10</td>\n",
       "      <td>216</td>\n",
       "      <td>1</td>\n",
       "    </tr>\n",
       "    <tr>\n",
       "      <th>136325</th>\n",
       "      <td>R1573T</td>\n",
       "      <td>0</td>\n",
       "      <td>10</td>\n",
       "      <td>289</td>\n",
       "      <td>1</td>\n",
       "    </tr>\n",
       "  </tbody>\n",
       "</table>\n",
       "<p>136326 rows × 5 columns</p>\n",
       "</div>"
      ],
      "text/plain": [
       "       subject  session  list  item_num  size\n",
       "0       R1001P        0     1        35     1\n",
       "1       R1001P        0     1        58     1\n",
       "2       R1001P        0     1       110     1\n",
       "3       R1001P        0     1       114     1\n",
       "4       R1001P        0     1       120     1\n",
       "...        ...      ...   ...       ...   ...\n",
       "136321  R1573T        0     9       291     1\n",
       "136322  R1573T        0    10        62     1\n",
       "136323  R1573T        0    10       138     1\n",
       "136324  R1573T        0    10       216     1\n",
       "136325  R1573T        0    10       289     1\n",
       "\n",
       "[136326 rows x 5 columns]"
      ]
     },
     "execution_count": 5,
     "metadata": {},
     "output_type": "execute_result"
    }
   ],
   "source": [
    "events = all_fr1_events.query('type == [\"WORD\", \"REC_WORD\"]')\n",
    "events = events.assign(row_order=range(len(events)))\n",
    "events.rename(columns={'item_name': 'item'}, inplace=True)\n",
    "events = events[events['list'] > 0] # removing practice lists\n",
    "\n",
    "word_evs = events.query('type == \"WORD\"')\n",
    "n_word_pres = word_evs.groupby(['subject', 'session', 'list', 'item_num'], as_index=False).size()\n",
    "n_word_pres"
   ]
  },
  {
   "cell_type": "code",
   "execution_count": 6,
   "id": "d45a14bd-6d3f-412e-88dc-8f4d5b45caa5",
   "metadata": {},
   "outputs": [],
   "source": [
    "events = all_fr1_events.query('type == [\"WORD\", \"REC_WORD\"]')\n",
    "events = events.assign(row_order=range(len(events)))\n",
    "events.rename(columns={'item_name': 'item'}, inplace=True)\n",
    "events = events[events['list'] > 0] # removing practice lists\n",
    "\n",
    "#removing subjects who were presented with the same word multiple times (probably repeated data)\n",
    "word_evs = events.query('type == \"WORD\"')\n",
    "n_word_pres = word_evs.groupby(['subject', 'session', 'list', 'item_num'], as_index=False).size()\n",
    "bad_lists = n_word_pres.query('size >= 2')\n",
    "bad_subs = bad_lists.subject.unique().tolist()\n",
    "\n",
    "#drop subjects without 12 items per list\n",
    "n_list_pres = word_evs.groupby(['subject', 'session', 'list'], as_index=False).size()\n",
    "bad_lists = n_list_pres.query('size != 12')\n",
    "bad_subs += bad_lists.subject.unique().tolist()\n",
    "\n",
    "#drop subjects with no recalls\n",
    "n_types = events.groupby('subject', as_index=False).agg({'type': 'nunique'})\n",
    "no_recall_subs = n_types.query('type != 2')\n",
    "bad_subs += no_recall_subs.subject.unique().tolist()\n",
    "\n",
    "#drop subs with messed up recalls\n",
    "rec_evs = events.query('type == \"REC_WORD\"')\n",
    "joint_evs = word_evs.merge(rec_evs[['subject', 'session', 'list', 'item']], how='left', indicator=True)\n",
    "bad_subs += joint_evs.query('(recalled == 1 and _merge != \"both\") or (recalled == 0 and _merge == \"both\")').subject.unique().tolist()\n",
    "\n",
    "events.query('subject not in @bad_subs', inplace=True)"
   ]
  },
  {
   "cell_type": "code",
   "execution_count": 7,
   "id": "0e773012-9474-4a78-a9de-eb2f7dbd3ce1",
   "metadata": {},
   "outputs": [],
   "source": [
    "#fixing serial position in REC_WORD events\n",
    "events.loc[events['type'] == \"REC_WORD\", \"serialpos\"] = np.nan\n",
    "events.sort_values('type', inplace=True)\n",
    "#bfill because WORD will come after REC_WORD after sorting\n",
    "events['serialpos'] = events.groupby(['subject', 'session', 'list', 'item'])['serialpos'].bfill()\n",
    "events.sort_values('row_order', inplace=True)"
   ]
  },
  {
   "cell_type": "code",
   "execution_count": 8,
   "id": "04c1e16c-6dee-42ad-97e4-1aa097d72d11",
   "metadata": {},
   "outputs": [],
   "source": [
    "word_evs = events.query('type == \"WORD\"')\n",
    "rec_evs = events.query('type == \"REC_WORD\"')"
   ]
  },
  {
   "cell_type": "code",
   "execution_count": 10,
   "id": "cac95c74-cbec-4559-afc7-12ec88c0a1f2",
   "metadata": {},
   "outputs": [],
   "source": [
    "spc_sess_df = word_evs.groupby(['subject', 'session', 'serialpos'], as_index=False).agg({'recalled': 'mean'})\n",
    "spc_df = spc_sess_df.groupby(['subject', 'serialpos'], as_index=False).agg({'recalled': 'mean'})"
   ]
  },
  {
   "cell_type": "code",
   "execution_count": 11,
   "id": "23fac797-8213-4a39-ae10-1b717c32aac3",
   "metadata": {},
   "outputs": [
    {
     "data": {
      "text/plain": [
       "<seaborn.axisgrid.FacetGrid at 0x2b9472ac10d0>"
      ]
     },
     "execution_count": 11,
     "metadata": {},
     "output_type": "execute_result"
    },
    {
     "data": {
      "image/png": "[encoded data removed]",
      "text/plain": [
       "<Figure size 360x360 with 1 Axes>"
      ]
     },
     "metadata": {
      "needs_background": "light"
     },
     "output_type": "display_data"
    }
   ],
   "source": [
    "g = sns.relplot(x='serialpos', y='recalled', data=spc_df, kind='line')\n",
    "g.set(xlabel='Serial Position', ylabel='P(recalled)')"
   ]
  },
  {
   "cell_type": "code",
   "execution_count": 14,
   "id": "94f0ca42-7824-4353-b1d1-b235df67bf18",
   "metadata": {},
   "outputs": [
    {
     "name": "stderr",
     "output_type": "stream",
     "text": [
      "/home1/djhalp/.conda/envs/cml/lib/python3.7/site-packages/ipykernel_launcher.py:1: SettingWithCopyWarning: \n",
      "A value is trying to be set on a copy of a slice from a DataFrame.\n",
      "Try using .loc[row_indexer,col_indexer] = value instead\n",
      "\n",
      "See the caveats in the documentation: https://pandas.pydata.org/pandas-docs/stable/user_guide/indexing.html#returning-a-view-versus-a-copy\n",
      "  \"\"\"Entry point for launching an IPython kernel.\n"
     ]
    }
   ],
   "source": [
    "rec_evs['outpos'] = rec_evs.groupby(['subject', 'session', 'list']).cumcount()\n",
    "n_list_df = word_evs.groupby(['subject', 'session'], as_index=False).agg({'list': 'nunique'}).rename(columns={'list': 'n_lists'})\n",
    "first_recall_sess_df = rec_evs.query('outpos == 0 and serialpos != -999') #don't include intrusions (i.e., serialpos == -999)\n",
    "\n",
    "#make sure there are 0s in serialpos that never get recalled first\n",
    "first_recall_sess_df = first_recall_sess_df.groupby(\n",
    "    ['subject', 'session', 'serialpos']).agg(\n",
    "    {'recalled': 'count'}).unstack(fill_value=0).stack().reset_index()\n",
    "\n",
    "first_recall_sess_df = first_recall_sess_df.merge(n_list_df)\n",
    "first_recall_sess_df['pfr'] = first_recall_sess_df['recalled'] / first_recall_sess_df['n_lists']\n",
    "pfr_df = first_recall_sess_df.groupby(['subject', 'serialpos'], as_index=False).agg({'pfr': 'mean'})"
   ]
  },
  {
   "cell_type": "code",
   "execution_count": 15,
   "id": "7354208c-de95-417c-9702-558b433ab8d2",
   "metadata": {},
   "outputs": [
    {
     "data": {
      "text/plain": [
       "<seaborn.axisgrid.FacetGrid at 0x2b9474086210>"
      ]
     },
     "execution_count": 15,
     "metadata": {},
     "output_type": "execute_result"
    },
    {
     "data": {
      "image/png": "[encoded data removed]",
      "text/plain": [
       "<Figure size 360x360 with 1 Axes>"
      ]
     },
     "metadata": {
      "needs_background": "light"
     },
     "output_type": "display_data"
    }
   ],
   "source": [
    "g = sns.relplot(x='serialpos', y='pfr', data=pfr_df, kind='line')\n",
    "g.set(xlabel='Serial Position', ylabel='P(recalled first)')"
   ]
  },
  {
   "cell_type": "code",
   "execution_count": 22,
   "id": "bd6850af-c2b7-4f65-a488-43fa5009d3c2",
   "metadata": {},
   "outputs": [],
   "source": [
    "pb_crp = events.groupby('subject').apply(pb.pd_crp, \n",
    "                                itemno_column='item_num').reset_index()"
   ]
  },
  {
   "cell_type": "code",
   "execution_count": 23,
   "id": "95c8809f-367a-4805-ba1c-6621ea84c3cd",
   "metadata": {},
   "outputs": [
    {
     "data": {
      "text/plain": [
       "<seaborn.axisgrid.FacetGrid at 0x2b9474f98550>"
      ]
     },
     "execution_count": 23,
     "metadata": {},
     "output_type": "execute_result"
    },
    {
     "data": {
      "image/png": "[encoded data removed]",
      "text/plain": [
       "<Figure size 360x360 with 1 Axes>"
      ]
     },
     "metadata": {
      "needs_background": "light"
     },
     "output_type": "display_data"
    }
   ],
   "source": [
    "g = sns.catplot(x='lag', y='prob', kind='point', \n",
    "                  data=pb_crp.query('lag <= 5 and lag >= -5'))\n",
    "g.set(xlabel='Lag', ylabel='P(transition)')"
   ]
  },
  {
   "cell_type": "code",
   "execution_count": 24,
   "id": "4cb792b0-d1a7-4e3d-80da-a141cf09f574",
   "metadata": {},
   "outputs": [],
   "source": [
    "#probably the correct way to do it (aggregating at all levels), but as far as I know not how we have done it in the past -- takes a little while to run\n",
    "pb_crp_list = events.groupby(['subject', 'session', 'list']).apply(pb.pd_crp, \n",
    "                                itemno_column='item_num').reset_index()"
   ]
  },
  {
   "cell_type": "code",
   "execution_count": 26,
   "id": "822666ef-e700-43ce-b01a-71065d113348",
   "metadata": {},
   "outputs": [],
   "source": [
    "pb_crp_sess = pb_crp_list.groupby(['subject', 'session', 'lag']).agg({'prob': 'mean'}).reset_index()\n",
    "pb_crp2 = pb_crp_sess.groupby(['subject', 'lag']).agg({'prob': 'mean'}).reset_index()"
   ]
  },
  {
   "cell_type": "code",
   "execution_count": 27,
   "id": "5aa31cf7-5de5-4b8b-87ea-01b381d376e8",
   "metadata": {},
   "outputs": [
    {
     "data": {
      "text/plain": [
       "<seaborn.axisgrid.FacetGrid at 0x2b947b6fd890>"
      ]
     },
     "execution_count": 27,
     "metadata": {},
     "output_type": "execute_result"
    },
    {
     "data": {
      "image/png": "[encoded data removed]",
      "text/plain": [
       "<Figure size 360x360 with 1 Axes>"
      ]
     },
     "metadata": {
      "needs_background": "light"
     },
     "output_type": "display_data"
    }
   ],
   "source": [
    "g = sns.catplot(x='lag', y='prob', kind='point', \n",
    "                  data=pb_crp2.query('lag <= 5 and lag >= -5'))\n",
    "g.set(xlabel='Lag', ylabel='P(transition)')"
   ]
  },
  {
   "cell_type": "code",
   "execution_count": 28,
   "id": "ab2f331d-7071-435c-bf00-c5740a481177",
   "metadata": {},
   "outputs": [
    {
     "data": {
      "text/html": [
       "<div>\n",
       "<style scoped>\n",
       "    .dataframe tbody tr th:only-of-type {\n",
       "        vertical-align: middle;\n",
       "    }\n",
       "\n",
       "    .dataframe tbody tr th {\n",
       "        vertical-align: top;\n",
       "    }\n",
       "\n",
       "    .dataframe thead th {\n",
       "        text-align: right;\n",
       "    }\n",
       "</style>\n",
       "<table border=\"1\" class=\"dataframe\">\n",
       "  <thead>\n",
       "    <tr style=\"text-align: right;\">\n",
       "      <th></th>\n",
       "      <th>subject</th>\n",
       "      <th>temp_fact</th>\n",
       "    </tr>\n",
       "  </thead>\n",
       "  <tbody>\n",
       "    <tr>\n",
       "      <th>0</th>\n",
       "      <td>R1001P</td>\n",
       "      <td>0.625303</td>\n",
       "    </tr>\n",
       "    <tr>\n",
       "      <th>1</th>\n",
       "      <td>R1002P</td>\n",
       "      <td>0.602389</td>\n",
       "    </tr>\n",
       "    <tr>\n",
       "      <th>2</th>\n",
       "      <td>R1003P</td>\n",
       "      <td>0.697490</td>\n",
       "    </tr>\n",
       "    <tr>\n",
       "      <th>3</th>\n",
       "      <td>R1006P</td>\n",
       "      <td>0.674832</td>\n",
       "    </tr>\n",
       "    <tr>\n",
       "      <th>4</th>\n",
       "      <td>R1010J</td>\n",
       "      <td>0.603109</td>\n",
       "    </tr>\n",
       "    <tr>\n",
       "      <th>...</th>\n",
       "      <td>...</td>\n",
       "      <td>...</td>\n",
       "    </tr>\n",
       "    <tr>\n",
       "      <th>262</th>\n",
       "      <td>R1467M</td>\n",
       "      <td>0.626045</td>\n",
       "    </tr>\n",
       "    <tr>\n",
       "      <th>263</th>\n",
       "      <td>R1542J</td>\n",
       "      <td>0.562895</td>\n",
       "    </tr>\n",
       "    <tr>\n",
       "      <th>264</th>\n",
       "      <td>R1569T</td>\n",
       "      <td>0.758442</td>\n",
       "    </tr>\n",
       "    <tr>\n",
       "      <th>265</th>\n",
       "      <td>R1571T</td>\n",
       "      <td>0.741228</td>\n",
       "    </tr>\n",
       "    <tr>\n",
       "      <th>266</th>\n",
       "      <td>R1572T</td>\n",
       "      <td>0.395809</td>\n",
       "    </tr>\n",
       "  </tbody>\n",
       "</table>\n",
       "<p>267 rows × 2 columns</p>\n",
       "</div>"
      ],
      "text/plain": [
       "    subject  temp_fact\n",
       "0    R1001P   0.625303\n",
       "1    R1002P   0.602389\n",
       "2    R1003P   0.697490\n",
       "3    R1006P   0.674832\n",
       "4    R1010J   0.603109\n",
       "..      ...        ...\n",
       "262  R1467M   0.626045\n",
       "263  R1542J   0.562895\n",
       "264  R1569T   0.758442\n",
       "265  R1571T   0.741228\n",
       "266  R1572T   0.395809\n",
       "\n",
       "[267 rows x 2 columns]"
      ]
     },
     "execution_count": 28,
     "metadata": {},
     "output_type": "execute_result"
    }
   ],
   "source": [
    "pb_temp_fact = events.groupby(\"subject\").apply(pb.pd_temp_fact,\n",
    "                                                   itemno_column='item_num', \n",
    "                                                   list_index=['subject', 'session', 'list'], \n",
    "                                                   pres_type=\"WORD\", rec_type=\"REC_WORD\", type_column='type'\n",
    "                                                   ).to_frame(name='temp_fact').reset_index()\n",
    "\n",
    "pb_temp_fact"
   ]
  },
  {
   "cell_type": "code",
   "execution_count": 30,
   "id": "3c630b1c-8910-42c4-9da1-8cd3e9e7ec62",
   "metadata": {},
   "outputs": [
    {
     "data": {
      "text/plain": [
       "<seaborn.axisgrid.FacetGrid at 0x2b947863a250>"
      ]
     },
     "execution_count": 30,
     "metadata": {},
     "output_type": "execute_result"
    },
    {
     "data": {
      "image/png": "[encoded data removed]",
      "text/plain": [
       "<Figure size 360x360 with 1 Axes>"
      ]
     },
     "metadata": {
      "needs_background": "light"
     },
     "output_type": "display_data"
    }
   ],
   "source": [
    "g = sns.displot(x='temp_fact', data=pb_temp_fact)\n",
    "g.set(xlabel='Temporal Factor Score')"
   ]
  },
  {
   "cell_type": "code",
   "execution_count": 36,
   "id": "5435512c-6db7-470b-81f3-a20832decc12",
   "metadata": {},
   "outputs": [],
   "source": [
    "# replace item nums so they are consistent across subjects\n",
    "item_col = 'item'\n",
    "item_num_col = 'item_num'\n",
    "item_num_df = events.query('type == \"WORD\"').drop_duplicates(subset=item_col, ignore_index=True\n",
    "                                    )[item_col].reset_index().rename(columns={'index': item_num_col})\n",
    "item_num_df['item_num'] = item_num_df['item_num'] + 1\n",
    "events_new = events.merge(item_num_df, on=item_col, suffixes=('', '_new'), \n",
    "                          how='left', sort=False)#.sort_values('mstime')\n",
    "events_new.fillna({'item_num_new': -999}, inplace=True)"
   ]
  },
  {
   "cell_type": "code",
   "execution_count": 54,
   "id": "2c9d8001-c746-4238-bf6d-4c945946d3dc",
   "metadata": {},
   "outputs": [],
   "source": [
    "import gensim.downloader\n",
    "word2vec_vectors = gensim.downloader.load('word2vec-google-news-300')"
   ]
  },
  {
   "cell_type": "code",
   "execution_count": 55,
   "id": "b8473ce5-a5b2-46a8-bde0-bae2f69bc3a5",
   "metadata": {},
   "outputs": [],
   "source": [
    "def word_similarity(df, col1, col2, keyed_vector=None):\n",
    "    try:\n",
    "        return keyed_vector.similarity(df[col1].lower(), df[col2].lower())\n",
    "    except:\n",
    "        return np.nan"
   ]
  },
  {
   "cell_type": "code",
   "execution_count": 56,
   "id": "25b1e07a-e248-4466-8753-9b8dbd5b4c4c",
   "metadata": {},
   "outputs": [],
   "source": [
    "# get all pairs of items\n",
    "items = item_num_df.item.values\n",
    "sem_sim_df = pd.MultiIndex.from_product([items, items], names=['wordpool_item_1', 'wordpool_item_2']).to_frame(index=False)"
   ]
  },
  {
   "cell_type": "code",
   "execution_count": 57,
   "id": "9ddba187-bc99-4b6e-a0a0-5f6f4238c3a8",
   "metadata": {},
   "outputs": [
    {
     "data": {
      "text/html": [
       "<div>\n",
       "<style scoped>\n",
       "    .dataframe tbody tr th:only-of-type {\n",
       "        vertical-align: middle;\n",
       "    }\n",
       "\n",
       "    .dataframe tbody tr th {\n",
       "        vertical-align: top;\n",
       "    }\n",
       "\n",
       "    .dataframe thead th {\n",
       "        text-align: right;\n",
       "    }\n",
       "</style>\n",
       "<table border=\"1\" class=\"dataframe\">\n",
       "  <thead>\n",
       "    <tr style=\"text-align: right;\">\n",
       "      <th></th>\n",
       "      <th>wordpool_item_1</th>\n",
       "      <th>wordpool_item_2</th>\n",
       "    </tr>\n",
       "  </thead>\n",
       "  <tbody>\n",
       "    <tr>\n",
       "      <th>0</th>\n",
       "      <td>HOUSE</td>\n",
       "      <td>HOUSE</td>\n",
       "    </tr>\n",
       "    <tr>\n",
       "      <th>1</th>\n",
       "      <td>HOUSE</td>\n",
       "      <td>HAWK</td>\n",
       "    </tr>\n",
       "    <tr>\n",
       "      <th>2</th>\n",
       "      <td>HOUSE</td>\n",
       "      <td>WAND</td>\n",
       "    </tr>\n",
       "    <tr>\n",
       "      <th>3</th>\n",
       "      <td>HOUSE</td>\n",
       "      <td>GEESE</td>\n",
       "    </tr>\n",
       "    <tr>\n",
       "      <th>4</th>\n",
       "      <td>HOUSE</td>\n",
       "      <td>STAR</td>\n",
       "    </tr>\n",
       "    <tr>\n",
       "      <th>...</th>\n",
       "      <td>...</td>\n",
       "      <td>...</td>\n",
       "    </tr>\n",
       "    <tr>\n",
       "      <th>563996</th>\n",
       "      <td>VIGA</td>\n",
       "      <td>PECHO</td>\n",
       "    </tr>\n",
       "    <tr>\n",
       "      <th>563997</th>\n",
       "      <td>VIGA</td>\n",
       "      <td>CAMELLO</td>\n",
       "    </tr>\n",
       "    <tr>\n",
       "      <th>563998</th>\n",
       "      <td>VIGA</td>\n",
       "      <td>INUNDACION</td>\n",
       "    </tr>\n",
       "    <tr>\n",
       "      <th>563999</th>\n",
       "      <td>VIGA</td>\n",
       "      <td>BEBE</td>\n",
       "    </tr>\n",
       "    <tr>\n",
       "      <th>564000</th>\n",
       "      <td>VIGA</td>\n",
       "      <td>VIGA</td>\n",
       "    </tr>\n",
       "  </tbody>\n",
       "</table>\n",
       "<p>564001 rows × 2 columns</p>\n",
       "</div>"
      ],
      "text/plain": [
       "       wordpool_item_1 wordpool_item_2\n",
       "0                HOUSE           HOUSE\n",
       "1                HOUSE            HAWK\n",
       "2                HOUSE            WAND\n",
       "3                HOUSE           GEESE\n",
       "4                HOUSE            STAR\n",
       "...                ...             ...\n",
       "563996            VIGA           PECHO\n",
       "563997            VIGA         CAMELLO\n",
       "563998            VIGA      INUNDACION\n",
       "563999            VIGA            BEBE\n",
       "564000            VIGA            VIGA\n",
       "\n",
       "[564001 rows x 2 columns]"
      ]
     },
     "execution_count": 57,
     "metadata": {},
     "output_type": "execute_result"
    }
   ],
   "source": [
    "sem_sim_df"
   ]
  },
  {
   "cell_type": "code",
   "execution_count": 67,
   "id": "443f0751-c0ea-423d-860c-26de5889942c",
   "metadata": {},
   "outputs": [],
   "source": [
    "# compute similarity of all pairs\n",
    "sem_sim_df['similarity'] = sem_sim_df.apply(word_similarity, \n",
    "               axis=1, col1='wordpool_item_1', \n",
    "               col2='wordpool_item_2', \n",
    "               keyed_vector=word2vec_vectors)"
   ]
  },
  {
   "cell_type": "code",
   "execution_count": 68,
   "id": "5f9e349e-c11c-450d-9abb-b51bb784ff29",
   "metadata": {},
   "outputs": [],
   "source": [
    "sem_sim_df.to_csv('/scratch/djh/fr1_sem_sim_df.csv', index=False)"
   ]
  },
  {
   "cell_type": "code",
   "execution_count": 69,
   "id": "d5a3316f-3d83-41e4-9543-a1aab2d2903f",
   "metadata": {},
   "outputs": [],
   "source": [
    "sem_sim_df = pd.read_csv('/scratch/djh/fr1_sem_sim_df.csv')"
   ]
  },
  {
   "cell_type": "code",
   "execution_count": 70,
   "id": "1492d170-47a9-4c2f-8d1a-c2c18ef70b8e",
   "metadata": {},
   "outputs": [
    {
     "data": {
      "text/html": [
       "<div>\n",
       "<style scoped>\n",
       "    .dataframe tbody tr th:only-of-type {\n",
       "        vertical-align: middle;\n",
       "    }\n",
       "\n",
       "    .dataframe tbody tr th {\n",
       "        vertical-align: top;\n",
       "    }\n",
       "\n",
       "    .dataframe thead th {\n",
       "        text-align: right;\n",
       "    }\n",
       "</style>\n",
       "<table border=\"1\" class=\"dataframe\">\n",
       "  <thead>\n",
       "    <tr style=\"text-align: right;\">\n",
       "      <th></th>\n",
       "      <th>wordpool_item_1</th>\n",
       "      <th>wordpool_item_2</th>\n",
       "      <th>similarity</th>\n",
       "    </tr>\n",
       "  </thead>\n",
       "  <tbody>\n",
       "    <tr>\n",
       "      <th>0</th>\n",
       "      <td>HOUSE</td>\n",
       "      <td>HOUSE</td>\n",
       "      <td>1.000000</td>\n",
       "    </tr>\n",
       "    <tr>\n",
       "      <th>1</th>\n",
       "      <td>HOUSE</td>\n",
       "      <td>HAWK</td>\n",
       "      <td>0.113100</td>\n",
       "    </tr>\n",
       "    <tr>\n",
       "      <th>2</th>\n",
       "      <td>HOUSE</td>\n",
       "      <td>WAND</td>\n",
       "      <td>0.093160</td>\n",
       "    </tr>\n",
       "    <tr>\n",
       "      <th>3</th>\n",
       "      <td>HOUSE</td>\n",
       "      <td>GEESE</td>\n",
       "      <td>0.057868</td>\n",
       "    </tr>\n",
       "    <tr>\n",
       "      <th>4</th>\n",
       "      <td>HOUSE</td>\n",
       "      <td>STAR</td>\n",
       "      <td>0.063717</td>\n",
       "    </tr>\n",
       "    <tr>\n",
       "      <th>...</th>\n",
       "      <td>...</td>\n",
       "      <td>...</td>\n",
       "      <td>...</td>\n",
       "    </tr>\n",
       "    <tr>\n",
       "      <th>563996</th>\n",
       "      <td>VIGA</td>\n",
       "      <td>PECHO</td>\n",
       "      <td>NaN</td>\n",
       "    </tr>\n",
       "    <tr>\n",
       "      <th>563997</th>\n",
       "      <td>VIGA</td>\n",
       "      <td>CAMELLO</td>\n",
       "      <td>NaN</td>\n",
       "    </tr>\n",
       "    <tr>\n",
       "      <th>563998</th>\n",
       "      <td>VIGA</td>\n",
       "      <td>INUNDACION</td>\n",
       "      <td>NaN</td>\n",
       "    </tr>\n",
       "    <tr>\n",
       "      <th>563999</th>\n",
       "      <td>VIGA</td>\n",
       "      <td>BEBE</td>\n",
       "      <td>NaN</td>\n",
       "    </tr>\n",
       "    <tr>\n",
       "      <th>564000</th>\n",
       "      <td>VIGA</td>\n",
       "      <td>VIGA</td>\n",
       "      <td>NaN</td>\n",
       "    </tr>\n",
       "  </tbody>\n",
       "</table>\n",
       "<p>564001 rows × 3 columns</p>\n",
       "</div>"
      ],
      "text/plain": [
       "       wordpool_item_1 wordpool_item_2  similarity\n",
       "0                HOUSE           HOUSE    1.000000\n",
       "1                HOUSE            HAWK    0.113100\n",
       "2                HOUSE            WAND    0.093160\n",
       "3                HOUSE           GEESE    0.057868\n",
       "4                HOUSE            STAR    0.063717\n",
       "...                ...             ...         ...\n",
       "563996            VIGA           PECHO         NaN\n",
       "563997            VIGA         CAMELLO         NaN\n",
       "563998            VIGA      INUNDACION         NaN\n",
       "563999            VIGA            BEBE         NaN\n",
       "564000            VIGA            VIGA         NaN\n",
       "\n",
       "[564001 rows x 3 columns]"
      ]
     },
     "execution_count": 70,
     "metadata": {},
     "output_type": "execute_result"
    }
   ],
   "source": [
    "sem_sim_df"
   ]
  },
  {
   "cell_type": "code",
   "execution_count": 71,
   "id": "8a5adec3-1b8f-4df0-a7cf-74f9416dc44e",
   "metadata": {},
   "outputs": [],
   "source": [
    "sem_sim_num_df = sem_sim_df.merge(\n",
    "    item_num_df, left_on='wordpool_item_1', right_on='item').merge(\n",
    "    item_num_df, left_on='wordpool_item_2', right_on='item', suffixes=('_1', '_2')).drop(columns=['wordpool_item_1', 'wordpool_item_2'])"
   ]
  },
  {
   "cell_type": "code",
   "execution_count": 72,
   "id": "7414a870-0597-4087-8a16-a40f18763828",
   "metadata": {},
   "outputs": [],
   "source": [
    "sem_sims = pd.pivot_table(sem_sim_num_df, index='item_num_1', columns='item_num_2', values='similarity', dropna=False)"
   ]
  },
  {
   "cell_type": "code",
   "execution_count": 73,
   "id": "e585f7d7-94ee-4962-9cc1-f8144fa81911",
   "metadata": {},
   "outputs": [
    {
     "data": {
      "text/html": [
       "<div>\n",
       "<style scoped>\n",
       "    .dataframe tbody tr th:only-of-type {\n",
       "        vertical-align: middle;\n",
       "    }\n",
       "\n",
       "    .dataframe tbody tr th {\n",
       "        vertical-align: top;\n",
       "    }\n",
       "\n",
       "    .dataframe thead th {\n",
       "        text-align: right;\n",
       "    }\n",
       "</style>\n",
       "<table border=\"1\" class=\"dataframe\">\n",
       "  <thead>\n",
       "    <tr style=\"text-align: right;\">\n",
       "      <th></th>\n",
       "      <th>similarity</th>\n",
       "      <th>item_num_1</th>\n",
       "      <th>item_1</th>\n",
       "      <th>item_num_2</th>\n",
       "      <th>item_2</th>\n",
       "    </tr>\n",
       "  </thead>\n",
       "  <tbody>\n",
       "    <tr>\n",
       "      <th>0</th>\n",
       "      <td>1.000000</td>\n",
       "      <td>1</td>\n",
       "      <td>HOUSE</td>\n",
       "      <td>1</td>\n",
       "      <td>HOUSE</td>\n",
       "    </tr>\n",
       "    <tr>\n",
       "      <th>1</th>\n",
       "      <td>0.113100</td>\n",
       "      <td>2</td>\n",
       "      <td>HAWK</td>\n",
       "      <td>1</td>\n",
       "      <td>HOUSE</td>\n",
       "    </tr>\n",
       "    <tr>\n",
       "      <th>2</th>\n",
       "      <td>0.093160</td>\n",
       "      <td>3</td>\n",
       "      <td>WAND</td>\n",
       "      <td>1</td>\n",
       "      <td>HOUSE</td>\n",
       "    </tr>\n",
       "    <tr>\n",
       "      <th>3</th>\n",
       "      <td>0.057868</td>\n",
       "      <td>4</td>\n",
       "      <td>GEESE</td>\n",
       "      <td>1</td>\n",
       "      <td>HOUSE</td>\n",
       "    </tr>\n",
       "    <tr>\n",
       "      <th>4</th>\n",
       "      <td>0.063717</td>\n",
       "      <td>5</td>\n",
       "      <td>STAR</td>\n",
       "      <td>1</td>\n",
       "      <td>HOUSE</td>\n",
       "    </tr>\n",
       "    <tr>\n",
       "      <th>...</th>\n",
       "      <td>...</td>\n",
       "      <td>...</td>\n",
       "      <td>...</td>\n",
       "      <td>...</td>\n",
       "      <td>...</td>\n",
       "    </tr>\n",
       "    <tr>\n",
       "      <th>563996</th>\n",
       "      <td>NaN</td>\n",
       "      <td>747</td>\n",
       "      <td>PECHO</td>\n",
       "      <td>751</td>\n",
       "      <td>VIGA</td>\n",
       "    </tr>\n",
       "    <tr>\n",
       "      <th>563997</th>\n",
       "      <td>NaN</td>\n",
       "      <td>748</td>\n",
       "      <td>CAMELLO</td>\n",
       "      <td>751</td>\n",
       "      <td>VIGA</td>\n",
       "    </tr>\n",
       "    <tr>\n",
       "      <th>563998</th>\n",
       "      <td>NaN</td>\n",
       "      <td>749</td>\n",
       "      <td>INUNDACION</td>\n",
       "      <td>751</td>\n",
       "      <td>VIGA</td>\n",
       "    </tr>\n",
       "    <tr>\n",
       "      <th>563999</th>\n",
       "      <td>NaN</td>\n",
       "      <td>750</td>\n",
       "      <td>BEBE</td>\n",
       "      <td>751</td>\n",
       "      <td>VIGA</td>\n",
       "    </tr>\n",
       "    <tr>\n",
       "      <th>564000</th>\n",
       "      <td>NaN</td>\n",
       "      <td>751</td>\n",
       "      <td>VIGA</td>\n",
       "      <td>751</td>\n",
       "      <td>VIGA</td>\n",
       "    </tr>\n",
       "  </tbody>\n",
       "</table>\n",
       "<p>564001 rows × 5 columns</p>\n",
       "</div>"
      ],
      "text/plain": [
       "        similarity  item_num_1      item_1  item_num_2 item_2\n",
       "0         1.000000           1       HOUSE           1  HOUSE\n",
       "1         0.113100           2        HAWK           1  HOUSE\n",
       "2         0.093160           3        WAND           1  HOUSE\n",
       "3         0.057868           4       GEESE           1  HOUSE\n",
       "4         0.063717           5        STAR           1  HOUSE\n",
       "...            ...         ...         ...         ...    ...\n",
       "563996         NaN         747       PECHO         751   VIGA\n",
       "563997         NaN         748     CAMELLO         751   VIGA\n",
       "563998         NaN         749  INUNDACION         751   VIGA\n",
       "563999         NaN         750        BEBE         751   VIGA\n",
       "564000         NaN         751        VIGA         751   VIGA\n",
       "\n",
       "[564001 rows x 5 columns]"
      ]
     },
     "execution_count": 73,
     "metadata": {},
     "output_type": "execute_result"
    }
   ],
   "source": [
    "sem_sim_num_df"
   ]
  },
  {
   "cell_type": "code",
   "execution_count": 74,
   "id": "a1183727-8e80-4fab-bd37-27e76ca89cc6",
   "metadata": {},
   "outputs": [],
   "source": [
    "pb_sem_crp = events_new.groupby('subject').apply(pb.pd_sem_crp, \n",
    "                                itemno_column='item_num_new', sem_sims=sem_sims).reset_index()"
   ]
  },
  {
   "cell_type": "code",
   "execution_count": 75,
   "id": "1121a0d2-f6de-4d22-87d1-49f4a4fd8aa0",
   "metadata": {},
   "outputs": [
    {
     "data": {
      "text/plain": [
       "<seaborn.axisgrid.FacetGrid at 0x2b95b02f63d0>"
      ]
     },
     "execution_count": 75,
     "metadata": {},
     "output_type": "execute_result"
    },
    {
     "data": {
      "image/png": "[encoded data removed]",
      "text/plain": [
       "<Figure size 360x360 with 1 Axes>"
      ]
     },
     "metadata": {
      "needs_background": "light"
     },
     "output_type": "display_data"
    }
   ],
   "source": [
    "g = sns.catplot(x='sem_bin', y='prob', kind='point', \n",
    "                  data=pb_sem_crp)\n",
    "g.set(xlabel='Similarity Bin', ylabel='P(transition)')"
   ]
  },
  {
   "cell_type": "code",
   "execution_count": 76,
   "id": "1962d276-facb-42f7-a0d5-7dce697ee5f8",
   "metadata": {},
   "outputs": [
    {
     "data": {
      "text/plain": [
       "<seaborn.axisgrid.FacetGrid at 0x2b95b026af90>"
      ]
     },
     "execution_count": 76,
     "metadata": {},
     "output_type": "execute_result"
    },
    {
     "data": {
      "image/png": "[encoded data removed]",
      "text/plain": [
       "<Figure size 360x360 with 1 Axes>"
      ]
     },
     "metadata": {
      "needs_background": "light"
     },
     "output_type": "display_data"
    }
   ],
   "source": [
    "#using average bin value\n",
    "pb_sem_crp['avg_sem_bin_mean'] = pb_sem_crp.groupby('sem_bin')['sem_bin_mean'].transform('mean')\n",
    "g = sns.relplot(x='avg_sem_bin_mean', y='prob', data=pb_sem_crp, kind='line')\n",
    "g.set(xlabel='Similarity', ylabel='P(transition)')"
   ]
  },
  {
   "cell_type": "code",
   "execution_count": 47,
   "id": "846bf074-a63a-43e4-a137-eafe89973f63",
   "metadata": {},
   "outputs": [
    {
     "data": {
      "text/html": [
       "<div>\n",
       "<style scoped>\n",
       "    .dataframe tbody tr th:only-of-type {\n",
       "        vertical-align: middle;\n",
       "    }\n",
       "\n",
       "    .dataframe tbody tr th {\n",
       "        vertical-align: top;\n",
       "    }\n",
       "\n",
       "    .dataframe thead th {\n",
       "        text-align: right;\n",
       "    }\n",
       "</style>\n",
       "<table border=\"1\" class=\"dataframe\">\n",
       "  <thead>\n",
       "    <tr style=\"text-align: right;\">\n",
       "      <th></th>\n",
       "      <th>subject</th>\n",
       "      <th>sem_fact</th>\n",
       "    </tr>\n",
       "  </thead>\n",
       "  <tbody>\n",
       "    <tr>\n",
       "      <th>0</th>\n",
       "      <td>R1001P</td>\n",
       "      <td>0.550296</td>\n",
       "    </tr>\n",
       "    <tr>\n",
       "      <th>1</th>\n",
       "      <td>R1002P</td>\n",
       "      <td>0.548142</td>\n",
       "    </tr>\n",
       "    <tr>\n",
       "      <th>2</th>\n",
       "      <td>R1003P</td>\n",
       "      <td>0.545138</td>\n",
       "    </tr>\n",
       "    <tr>\n",
       "      <th>3</th>\n",
       "      <td>R1006P</td>\n",
       "      <td>0.550895</td>\n",
       "    </tr>\n",
       "    <tr>\n",
       "      <th>4</th>\n",
       "      <td>R1010J</td>\n",
       "      <td>0.650000</td>\n",
       "    </tr>\n",
       "    <tr>\n",
       "      <th>...</th>\n",
       "      <td>...</td>\n",
       "      <td>...</td>\n",
       "    </tr>\n",
       "    <tr>\n",
       "      <th>262</th>\n",
       "      <td>R1467M</td>\n",
       "      <td>0.647275</td>\n",
       "    </tr>\n",
       "    <tr>\n",
       "      <th>263</th>\n",
       "      <td>R1542J</td>\n",
       "      <td>0.570793</td>\n",
       "    </tr>\n",
       "    <tr>\n",
       "      <th>264</th>\n",
       "      <td>R1569T</td>\n",
       "      <td>0.579774</td>\n",
       "    </tr>\n",
       "    <tr>\n",
       "      <th>265</th>\n",
       "      <td>R1571T</td>\n",
       "      <td>0.640936</td>\n",
       "    </tr>\n",
       "    <tr>\n",
       "      <th>266</th>\n",
       "      <td>R1572T</td>\n",
       "      <td>0.651736</td>\n",
       "    </tr>\n",
       "  </tbody>\n",
       "</table>\n",
       "<p>267 rows × 2 columns</p>\n",
       "</div>"
      ],
      "text/plain": [
       "    subject  sem_fact\n",
       "0    R1001P  0.550296\n",
       "1    R1002P  0.548142\n",
       "2    R1003P  0.545138\n",
       "3    R1006P  0.550895\n",
       "4    R1010J  0.650000\n",
       "..      ...       ...\n",
       "262  R1467M  0.647275\n",
       "263  R1542J  0.570793\n",
       "264  R1569T  0.579774\n",
       "265  R1571T  0.640936\n",
       "266  R1572T  0.651736\n",
       "\n",
       "[267 rows x 2 columns]"
      ]
     },
     "execution_count": 47,
     "metadata": {},
     "output_type": "execute_result"
    }
   ],
   "source": [
    "pb_sem_dist_fact = events_new.groupby(\"subject\").apply(pb.pd_dist_fact,\n",
    "                                                       rec_itemnos=None, \n",
    "                                                       itemno_column='item_num_new', \n",
    "                                                       list_index=['subject', 'session', 'list'], \n",
    "                                                       dist_mat=sem_sims, \n",
    "                                                       sim_columns=None, \n",
    "                                                       is_similarity=True, \n",
    "                                                       dist_columns=None,\n",
    "                                                       skip_first_n=0,\n",
    "                                                       pres_type=\"WORD\", rec_type=\"REC_WORD\", type_column='type', ret_counts=False\n",
    "                                                       ).to_frame(name='sem_fact').reset_index()\n",
    "\n",
    "pb_sem_dist_fact"
   ]
  },
  {
   "cell_type": "code",
   "execution_count": 48,
   "id": "72431e8a-24a8-444c-b670-f8367317324d",
   "metadata": {},
   "outputs": [
    {
     "data": {
      "text/plain": [
       "<seaborn.axisgrid.FacetGrid at 0x2b947e311390>"
      ]
     },
     "execution_count": 48,
     "metadata": {},
     "output_type": "execute_result"
    },
    {
     "data": {
      "image/png": "[encoded data removed]",
      "text/plain": [
       "<Figure size 360x360 with 1 Axes>"
      ]
     },
     "metadata": {
      "needs_background": "light"
     },
     "output_type": "display_data"
    }
   ],
   "source": [
    "g = sns.displot(x='sem_fact', data=pb_sem_dist_fact)\n",
    "g.set(xlabel='Semantic Factor Score')"
   ]
  },
  {
   "cell_type": "code",
   "execution_count": null,
   "id": "ba9f5764-1207-4a5f-91b0-e06d9f2b657a",
   "metadata": {},
   "outputs": [],
   "source": []
  }
 ],
 "metadata": {
  "kernelspec": {
   "display_name": "“cml”",
   "language": "python",
   "name": "cml"
  },
  "language_info": {
   "codemirror_mode": {
    "name": "ipython",
    "version": 3
   },
   "file_extension": ".py",
   "mimetype": "text/x-python",
   "name": "python",
   "nbconvert_exporter": "python",
   "pygments_lexer": "ipython3",
   "version": "3.7.9"
  }
 },
 "nbformat": 4,
 "nbformat_minor": 5
}
